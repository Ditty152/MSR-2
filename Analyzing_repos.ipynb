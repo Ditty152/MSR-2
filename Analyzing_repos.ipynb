{
 "cells": [
  {
   "cell_type": "code",
   "execution_count": 13,
   "metadata": {},
   "outputs": [],
   "source": [
    "import pandas as pd\n",
    "import matplotlib.pyplot as plt\n",
    "%matplotlib inline"
   ]
  },
  {
   "cell_type": "code",
   "execution_count": 14,
   "metadata": {},
   "outputs": [],
   "source": [
    "plt.rcParams[\"figure.figsize\"] = (7,5)"
   ]
  },
  {
   "cell_type": "code",
   "execution_count": 15,
   "metadata": {},
   "outputs": [],
   "source": [
    "def show_pie_chart(data, labels, explode, title):\n",
    "    fig, axis = plt.subplots()\n",
    "    axis.pie(data, labels= labels, explode= explode, shadow= True, autopct= '%1.1f%%')\n",
    "    fig.set_size_inches(5, 5)\n",
    "    plt.title(title)\n",
    "    plt.show()"
   ]
  },
  {
   "cell_type": "code",
   "execution_count": 16,
   "metadata": {},
   "outputs": [],
   "source": [
    "def show_bar_chart(data, labels, x_label, y_label, title):\n",
    "    fig, axis = plt.subplots()\n",
    "    axis.bar(labels, data)\n",
    "    plt.xlabel(x_label)\n",
    "    plt.ylabel(y_label)\n",
    "    plt.title(title)\n",
    "    plt.show()"
   ]
  },
  {
   "cell_type": "code",
   "execution_count": 17,
   "metadata": {},
   "outputs": [],
   "source": [
    "def show_bar_chart_overlapped(data_1, data_2, labels, x_label, y_label, title):\n",
    "    fig, axis = plt.subplots()\n",
    "    axis.bar(labels, data_1)\n",
    "    axis.bar(labels, data_2)\n",
    "    plt.xlabel(x_label)\n",
    "    plt.ylabel(y_label)\n",
    "    plt.title(title)\n",
    "    plt.legend(('Individual', 'both'))\n",
    "    plt.show()"
   ]
  },
  {
   "cell_type": "code",
   "execution_count": 18,
   "metadata": {},
   "outputs": [
    {
     "data": {
      "text/html": [
       "<div>\n",
       "<style scoped>\n",
       "    .dataframe tbody tr th:only-of-type {\n",
       "        vertical-align: middle;\n",
       "    }\n",
       "\n",
       "    .dataframe tbody tr th {\n",
       "        vertical-align: top;\n",
       "    }\n",
       "\n",
       "    .dataframe thead th {\n",
       "        text-align: right;\n",
       "    }\n",
       "</style>\n",
       "<table border=\"1\" class=\"dataframe\">\n",
       "  <thead>\n",
       "    <tr style=\"text-align: right;\">\n",
       "      <th></th>\n",
       "      <th>total_file_cnt</th>\n",
       "      <th>total_java_files</th>\n",
       "      <th>listener_pattern_cnt</th>\n",
       "      <th>visitor_pattern_cnt</th>\n",
       "      <th>enter_method_cnt</th>\n",
       "      <th>exit_method_cnt</th>\n",
       "      <th>enter_exit_method_cnt</th>\n",
       "      <th>visit_method_cnt</th>\n",
       "    </tr>\n",
       "    <tr>\n",
       "      <th>repo_id</th>\n",
       "      <th></th>\n",
       "      <th></th>\n",
       "      <th></th>\n",
       "      <th></th>\n",
       "      <th></th>\n",
       "      <th></th>\n",
       "      <th></th>\n",
       "      <th></th>\n",
       "    </tr>\n",
       "  </thead>\n",
       "  <tbody>\n",
       "    <tr>\n",
       "      <td>1</td>\n",
       "      <td>81</td>\n",
       "      <td>39</td>\n",
       "      <td>0</td>\n",
       "      <td>0</td>\n",
       "      <td>0</td>\n",
       "      <td>0</td>\n",
       "      <td>0</td>\n",
       "      <td>0</td>\n",
       "    </tr>\n",
       "    <tr>\n",
       "      <td>2</td>\n",
       "      <td>1197</td>\n",
       "      <td>500</td>\n",
       "      <td>1</td>\n",
       "      <td>0</td>\n",
       "      <td>1</td>\n",
       "      <td>167</td>\n",
       "      <td>0</td>\n",
       "      <td>0</td>\n",
       "    </tr>\n",
       "    <tr>\n",
       "      <td>3</td>\n",
       "      <td>452</td>\n",
       "      <td>377</td>\n",
       "      <td>0</td>\n",
       "      <td>2</td>\n",
       "      <td>0</td>\n",
       "      <td>0</td>\n",
       "      <td>0</td>\n",
       "      <td>81</td>\n",
       "    </tr>\n",
       "    <tr>\n",
       "      <td>4</td>\n",
       "      <td>205</td>\n",
       "      <td>140</td>\n",
       "      <td>0</td>\n",
       "      <td>0</td>\n",
       "      <td>3</td>\n",
       "      <td>4</td>\n",
       "      <td>0</td>\n",
       "      <td>0</td>\n",
       "    </tr>\n",
       "    <tr>\n",
       "      <td>5</td>\n",
       "      <td>694</td>\n",
       "      <td>201</td>\n",
       "      <td>17</td>\n",
       "      <td>0</td>\n",
       "      <td>30</td>\n",
       "      <td>195</td>\n",
       "      <td>0</td>\n",
       "      <td>0</td>\n",
       "    </tr>\n",
       "    <tr>\n",
       "      <td>...</td>\n",
       "      <td>...</td>\n",
       "      <td>...</td>\n",
       "      <td>...</td>\n",
       "      <td>...</td>\n",
       "      <td>...</td>\n",
       "      <td>...</td>\n",
       "      <td>...</td>\n",
       "      <td>...</td>\n",
       "    </tr>\n",
       "    <tr>\n",
       "      <td>339</td>\n",
       "      <td>2355</td>\n",
       "      <td>1654</td>\n",
       "      <td>2</td>\n",
       "      <td>0</td>\n",
       "      <td>12</td>\n",
       "      <td>4</td>\n",
       "      <td>0</td>\n",
       "      <td>0</td>\n",
       "    </tr>\n",
       "    <tr>\n",
       "      <td>340</td>\n",
       "      <td>1921</td>\n",
       "      <td>1479</td>\n",
       "      <td>2</td>\n",
       "      <td>0</td>\n",
       "      <td>12</td>\n",
       "      <td>4</td>\n",
       "      <td>0</td>\n",
       "      <td>0</td>\n",
       "    </tr>\n",
       "    <tr>\n",
       "      <td>341</td>\n",
       "      <td>40</td>\n",
       "      <td>0</td>\n",
       "      <td>0</td>\n",
       "      <td>0</td>\n",
       "      <td>0</td>\n",
       "      <td>0</td>\n",
       "      <td>0</td>\n",
       "      <td>0</td>\n",
       "    </tr>\n",
       "    <tr>\n",
       "      <td>342</td>\n",
       "      <td>109</td>\n",
       "      <td>0</td>\n",
       "      <td>0</td>\n",
       "      <td>0</td>\n",
       "      <td>0</td>\n",
       "      <td>0</td>\n",
       "      <td>0</td>\n",
       "      <td>0</td>\n",
       "    </tr>\n",
       "    <tr>\n",
       "      <td>343</td>\n",
       "      <td>563</td>\n",
       "      <td>38</td>\n",
       "      <td>1</td>\n",
       "      <td>0</td>\n",
       "      <td>0</td>\n",
       "      <td>10</td>\n",
       "      <td>0</td>\n",
       "      <td>0</td>\n",
       "    </tr>\n",
       "  </tbody>\n",
       "</table>\n",
       "<p>343 rows × 8 columns</p>\n",
       "</div>"
      ],
      "text/plain": [
       "         total_file_cnt  total_java_files  listener_pattern_cnt  \\\n",
       "repo_id                                                           \n",
       "1                    81                39                     0   \n",
       "2                  1197               500                     1   \n",
       "3                   452               377                     0   \n",
       "4                   205               140                     0   \n",
       "5                   694               201                    17   \n",
       "...                 ...               ...                   ...   \n",
       "339                2355              1654                     2   \n",
       "340                1921              1479                     2   \n",
       "341                  40                 0                     0   \n",
       "342                 109                 0                     0   \n",
       "343                 563                38                     1   \n",
       "\n",
       "         visitor_pattern_cnt  enter_method_cnt  exit_method_cnt  \\\n",
       "repo_id                                                           \n",
       "1                          0                 0                0   \n",
       "2                          0                 1              167   \n",
       "3                          2                 0                0   \n",
       "4                          0                 3                4   \n",
       "5                          0                30              195   \n",
       "...                      ...               ...              ...   \n",
       "339                        0                12                4   \n",
       "340                        0                12                4   \n",
       "341                        0                 0                0   \n",
       "342                        0                 0                0   \n",
       "343                        0                 0               10   \n",
       "\n",
       "         enter_exit_method_cnt  visit_method_cnt  \n",
       "repo_id                                           \n",
       "1                            0                 0  \n",
       "2                            0                 0  \n",
       "3                            0                81  \n",
       "4                            0                 0  \n",
       "5                            0                 0  \n",
       "...                        ...               ...  \n",
       "339                          0                 0  \n",
       "340                          0                 0  \n",
       "341                          0                 0  \n",
       "342                          0                 0  \n",
       "343                          0                 0  \n",
       "\n",
       "[343 rows x 8 columns]"
      ]
     },
     "execution_count": 18,
     "metadata": {},
     "output_type": "execute_result"
    }
   ],
   "source": [
    "repo_df = pd.read_csv('mining_results/repository_mining_data.csv', index_col=0)\n",
    "del repo_df['repo_name']\n",
    "repo_df"
   ]
  },
  {
   "cell_type": "code",
   "execution_count": 27,
   "metadata": {},
   "outputs": [],
   "source": [
    "visitor_pattern_cnt = 0\n",
    "listener_pattern_cnt = 0\n",
    "listener_visitor_both_cnt = 0\n",
    "no_listener_visitor_cnt = 0\n",
    "for listener_cnt, visiter_cnt in zip(repo_df['listener_pattern_cnt'], repo_df['visitor_pattern_cnt']):\n",
    "    if visiter_cnt > 0:\n",
    "        visitor_pattern_cnt += 1\n",
    "    if listener_cnt > 0:\n",
    "        listener_pattern_cnt += 1\n",
    "        \n",
    "    if listener_cnt > 0 and visiter_cnt > 0:\n",
    "        listener_visitor_both_cnt += 1\n",
    "    elif listener_cnt == 0 and visiter_cnt == 0:\n",
    "        no_listener_visitor_cnt += 1\n",
    "        \n",
    "visitor_pattern_cnt  -= listener_visitor_both_cnt\n",
    "listener_pattern_cnt  -= listener_visitor_both_cnt"
   ]
  },
  {
   "cell_type": "code",
   "execution_count": 29,
   "metadata": {},
   "outputs": [
    {
     "data": {
      "image/png": "[encoded data removed]",
      "text/plain": [
       "<Figure size 360x360 with 1 Axes>"
      ]
     },
     "metadata": {},
     "output_type": "display_data"
    }
   ],
   "source": [
    "pie_chart_datapoints = [listener_pattern_cnt, visitor_pattern_cnt, listener_visitor_both_cnt, no_listener_visitor_cnt]\n",
    "pie_chart_labels = ['listener(' + str(listener_pattern_cnt) + ')', 'visitor(' + str(visitor_pattern_cnt) + ')', 'Both(' + str(listener_visitor_both_cnt) + ')', 'No listener/visitor(' + str(no_listener_visitor_cnt) + ')']\n",
    "show_pie_chart(pie_chart_datapoints, pie_chart_labels, [0, 0, 0.2, 0], 'Usage of Antlr Patterns')"
   ]
  },
  {
   "cell_type": "code",
   "execution_count": 21,
   "metadata": {},
   "outputs": [],
   "source": [
    "listener_method_cnt = sum(repo_df['enter_method_cnt']) + sum(repo_df['exit_method_cnt'])\n",
    "visitor_method_cnt = sum(repo_df['visit_method_cnt'])"
   ]
  },
  {
   "cell_type": "code",
   "execution_count": 22,
   "metadata": {},
   "outputs": [
    {
     "data": {
      "image/png": "[encoded data removed]",
      "text/plain": [
       "<Figure size 504x360 with 1 Axes>"
      ]
     },
     "metadata": {
      "needs_background": "light"
     },
     "output_type": "display_data"
    }
   ],
   "source": [
    "bar_chart_datapoints = [listener_method_cnt, visitor_method_cnt]\n",
    "bar_chart_labels = ['listener', 'visitor']\n",
    "show_bar_chart(bar_chart_datapoints, bar_chart_labels, 'Antlr Pattern Names', 'Method Counts', 'Method count distribution for Antlr patterns in all Repositories ')"
   ]
  },
  {
   "cell_type": "code",
   "execution_count": 23,
   "metadata": {},
   "outputs": [],
   "source": [
    "enter_exit_both_method_cnt = sum(repo_df['enter_exit_method_cnt'])\n",
    "enter_method_cnt = sum(repo_df['enter_method_cnt'])\n",
    "exit_method_cnt = sum(repo_df['exit_method_cnt'])"
   ]
  },
  {
   "cell_type": "code",
   "execution_count": 24,
   "metadata": {},
   "outputs": [
    {
     "data": {
      "image/png": "[encoded data removed]",
      "text/plain": [
       "<Figure size 504x360 with 1 Axes>"
      ]
     },
     "metadata": {
      "needs_background": "light"
     },
     "output_type": "display_data"
    }
   ],
   "source": [
    "enter_exit_data_points = [enter_method_cnt, exit_method_cnt]\n",
    "common_data_points = [enter_exit_both_method_cnt, enter_exit_both_method_cnt]\n",
    "bar_chart_labels = ['enter', 'exit']\n",
    "show_bar_chart_overlapped(enter_exit_data_points, common_data_points, bar_chart_labels, 'Listener Method Names', 'Method Counts', 'Method count distribution of Listener Pattern ')"
   ]
  }
 ],
 "metadata": {
  "kernelspec": {
   "display_name": "Python 3",
   "language": "python",
   "name": "python3"
  },
  "language_info": {
   "codemirror_mode": {
    "name": "ipython",
    "version": 3
   },
   "file_extension": ".py",
   "mimetype": "text/x-python",
   "name": "python",
   "nbconvert_exporter": "python",
   "pygments_lexer": "ipython3",
   "version": "3.7.4"
  }
 },
 "nbformat": 4,
 "nbformat_minor": 2
}
