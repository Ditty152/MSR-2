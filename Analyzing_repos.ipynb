{
 "cells": [
  {
   "cell_type": "code",
   "execution_count": 10,
   "metadata": {},
   "outputs": [],
   "source": [
    "import pandas as pd\n",
    "import matplotlib.pyplot as plt\n",
    "%matplotlib inline"
   ]
  },
  {
   "cell_type": "code",
   "execution_count": 11,
   "metadata": {},
   "outputs": [],
   "source": [
    "plt.rcParams[\"figure.figsize\"] = (7,5)"
   ]
  },
  {
   "cell_type": "code",
   "execution_count": 12,
   "metadata": {},
   "outputs": [],
   "source": [
    "def show_pie_chart(data, labels, explode, title):\n",
    "    fig, axis = plt.subplots()\n",
    "    axis.pie(data, labels= labels, explode= explode, shadow= True, autopct= '%1.1f%%')\n",
    "    fig.set_size_inches(5, 5)\n",
    "    plt.title(title)\n",
    "    plt.show()"
   ]
  },
  {
   "cell_type": "code",
   "execution_count": 13,
   "metadata": {},
   "outputs": [],
   "source": [
    "def show_bar_chart(data, labels, x_label, y_label, title):\n",
    "    fig, axis = plt.subplots()\n",
    "    axis.bar(labels, data)\n",
    "    plt.xlabel(x_label)\n",
    "    plt.ylabel(y_label)\n",
    "    plt.title(title)\n",
    "    plt.show()"
   ]
  },
  {
   "cell_type": "code",
   "execution_count": 14,
   "metadata": {},
   "outputs": [],
   "source": [
    "def show_bar_chart_overlapped(data_1, data_2, labels, x_label, y_label, title):\n",
    "    fig, axis = plt.subplots()\n",
    "    axis.bar(labels, data_1)\n",
    "    axis.bar(labels, data_2)\n",
    "    plt.xlabel(x_label)\n",
    "    plt.ylabel(y_label)\n",
    "    plt.title(title)\n",
    "    plt.legend(('Individual', 'both'))\n",
    "    plt.show()"
   ]
  },
  {
   "cell_type": "code",
   "execution_count": 15,
   "metadata": {},
   "outputs": [
    {
     "data": {
      "text/html": [
       "<div>\n",
       "<style scoped>\n",
       "    .dataframe tbody tr th:only-of-type {\n",
       "        vertical-align: middle;\n",
       "    }\n",
       "\n",
       "    .dataframe tbody tr th {\n",
       "        vertical-align: top;\n",
       "    }\n",
       "\n",
       "    .dataframe thead th {\n",
       "        text-align: right;\n",
       "    }\n",
       "</style>\n",
       "<table border=\"1\" class=\"dataframe\">\n",
       "  <thead>\n",
       "    <tr style=\"text-align: right;\">\n",
       "      <th></th>\n",
       "      <th>total_file_cnt</th>\n",
       "      <th>total_java_files</th>\n",
       "      <th>listener_pattern_cnt</th>\n",
       "      <th>visitor_pattern_cnt</th>\n",
       "      <th>enter_method_cnt</th>\n",
       "      <th>exit_method_cnt</th>\n",
       "      <th>enter_exit_method_cnt</th>\n",
       "      <th>visit_method_cnt</th>\n",
       "    </tr>\n",
       "    <tr>\n",
       "      <th>repo_id</th>\n",
       "      <th></th>\n",
       "      <th></th>\n",
       "      <th></th>\n",
       "      <th></th>\n",
       "      <th></th>\n",
       "      <th></th>\n",
       "      <th></th>\n",
       "      <th></th>\n",
       "    </tr>\n",
       "  </thead>\n",
       "  <tbody>\n",
       "    <tr>\n",
       "      <td>1</td>\n",
       "      <td>658</td>\n",
       "      <td>135</td>\n",
       "      <td>0</td>\n",
       "      <td>2</td>\n",
       "      <td>0</td>\n",
       "      <td>0</td>\n",
       "      <td>0</td>\n",
       "      <td>37</td>\n",
       "    </tr>\n",
       "    <tr>\n",
       "      <td>2</td>\n",
       "      <td>0</td>\n",
       "      <td>0</td>\n",
       "      <td>0</td>\n",
       "      <td>0</td>\n",
       "      <td>0</td>\n",
       "      <td>0</td>\n",
       "      <td>0</td>\n",
       "      <td>0</td>\n",
       "    </tr>\n",
       "    <tr>\n",
       "      <td>3</td>\n",
       "      <td>0</td>\n",
       "      <td>0</td>\n",
       "      <td>0</td>\n",
       "      <td>0</td>\n",
       "      <td>0</td>\n",
       "      <td>0</td>\n",
       "      <td>0</td>\n",
       "      <td>0</td>\n",
       "    </tr>\n",
       "    <tr>\n",
       "      <td>4</td>\n",
       "      <td>0</td>\n",
       "      <td>0</td>\n",
       "      <td>0</td>\n",
       "      <td>0</td>\n",
       "      <td>0</td>\n",
       "      <td>0</td>\n",
       "      <td>0</td>\n",
       "      <td>0</td>\n",
       "    </tr>\n",
       "    <tr>\n",
       "      <td>5</td>\n",
       "      <td>0</td>\n",
       "      <td>0</td>\n",
       "      <td>0</td>\n",
       "      <td>0</td>\n",
       "      <td>0</td>\n",
       "      <td>0</td>\n",
       "      <td>0</td>\n",
       "      <td>0</td>\n",
       "    </tr>\n",
       "    <tr>\n",
       "      <td>...</td>\n",
       "      <td>...</td>\n",
       "      <td>...</td>\n",
       "      <td>...</td>\n",
       "      <td>...</td>\n",
       "      <td>...</td>\n",
       "      <td>...</td>\n",
       "      <td>...</td>\n",
       "      <td>...</td>\n",
       "    </tr>\n",
       "    <tr>\n",
       "      <td>434</td>\n",
       "      <td>0</td>\n",
       "      <td>0</td>\n",
       "      <td>0</td>\n",
       "      <td>0</td>\n",
       "      <td>0</td>\n",
       "      <td>0</td>\n",
       "      <td>0</td>\n",
       "      <td>0</td>\n",
       "    </tr>\n",
       "    <tr>\n",
       "      <td>435</td>\n",
       "      <td>0</td>\n",
       "      <td>0</td>\n",
       "      <td>0</td>\n",
       "      <td>0</td>\n",
       "      <td>0</td>\n",
       "      <td>0</td>\n",
       "      <td>0</td>\n",
       "      <td>0</td>\n",
       "    </tr>\n",
       "    <tr>\n",
       "      <td>436</td>\n",
       "      <td>0</td>\n",
       "      <td>0</td>\n",
       "      <td>0</td>\n",
       "      <td>0</td>\n",
       "      <td>0</td>\n",
       "      <td>0</td>\n",
       "      <td>0</td>\n",
       "      <td>0</td>\n",
       "    </tr>\n",
       "    <tr>\n",
       "      <td>437</td>\n",
       "      <td>0</td>\n",
       "      <td>0</td>\n",
       "      <td>0</td>\n",
       "      <td>0</td>\n",
       "      <td>0</td>\n",
       "      <td>0</td>\n",
       "      <td>0</td>\n",
       "      <td>0</td>\n",
       "    </tr>\n",
       "    <tr>\n",
       "      <td>438</td>\n",
       "      <td>0</td>\n",
       "      <td>0</td>\n",
       "      <td>0</td>\n",
       "      <td>0</td>\n",
       "      <td>0</td>\n",
       "      <td>0</td>\n",
       "      <td>0</td>\n",
       "      <td>0</td>\n",
       "    </tr>\n",
       "  </tbody>\n",
       "</table>\n",
       "<p>438 rows × 8 columns</p>\n",
       "</div>"
      ],
      "text/plain": [
       "         total_file_cnt  total_java_files  listener_pattern_cnt  \\\n",
       "repo_id                                                           \n",
       "1                   658               135                     0   \n",
       "2                     0                 0                     0   \n",
       "3                     0                 0                     0   \n",
       "4                     0                 0                     0   \n",
       "5                     0                 0                     0   \n",
       "...                 ...               ...                   ...   \n",
       "434                   0                 0                     0   \n",
       "435                   0                 0                     0   \n",
       "436                   0                 0                     0   \n",
       "437                   0                 0                     0   \n",
       "438                   0                 0                     0   \n",
       "\n",
       "         visitor_pattern_cnt  enter_method_cnt  exit_method_cnt  \\\n",
       "repo_id                                                           \n",
       "1                          2                 0                0   \n",
       "2                          0                 0                0   \n",
       "3                          0                 0                0   \n",
       "4                          0                 0                0   \n",
       "5                          0                 0                0   \n",
       "...                      ...               ...              ...   \n",
       "434                        0                 0                0   \n",
       "435                        0                 0                0   \n",
       "436                        0                 0                0   \n",
       "437                        0                 0                0   \n",
       "438                        0                 0                0   \n",
       "\n",
       "         enter_exit_method_cnt  visit_method_cnt  \n",
       "repo_id                                           \n",
       "1                            0                37  \n",
       "2                            0                 0  \n",
       "3                            0                 0  \n",
       "4                            0                 0  \n",
       "5                            0                 0  \n",
       "...                        ...               ...  \n",
       "434                          0                 0  \n",
       "435                          0                 0  \n",
       "436                          0                 0  \n",
       "437                          0                 0  \n",
       "438                          0                 0  \n",
       "\n",
       "[438 rows x 8 columns]"
      ]
     },
     "execution_count": 15,
     "metadata": {},
     "output_type": "execute_result"
    }
   ],
   "source": [
    "repo_df = pd.read_csv('mining_results/repository_mining_data_11012020_154314.csv', index_col=0)\n",
    "del repo_df['repo_name']\n",
    "repo_df"
   ]
  },
  {
   "cell_type": "code",
   "execution_count": 16,
   "metadata": {},
   "outputs": [
    {
     "name": "stdout",
     "output_type": "stream",
     "text": [
      " 1 0 \n"
     ]
    }
   ],
   "source": [
    "visitor_pattern_cnt = 0\n",
    "listener_pattern_cnt = 0\n",
    "listener_visitor_both_cnt = 0\n",
    "for enter, exit, visit in zip(repo_df['enter_method_cnt'], repo_df['exit_method_cnt'], repo_df['visit_method_cnt']):\n",
    "    if visit > 0:\n",
    "        visitor_pattern_cnt += 1\n",
    "    if enter > 0 or exit > 0:\n",
    "        listener_pattern_cnt += 1\n",
    "        \n",
    "    if (enter > 0 or exit > 0) and visit >0:\n",
    "        listener_visitor_both_cnt += 1\n",
    "        \n",
    "visitor_pattern_cnt  -= listener_visitor_both_cnt\n",
    "listener_pattern_cnt  -= listener_visitor_both_cnt\n",
    "\n",
    "print(f' {visitor_pattern_cnt} {listener_pattern_cnt} ')"
   ]
  },
  {
   "cell_type": "code",
   "execution_count": 17,
   "metadata": {},
   "outputs": [],
   "source": [
    "visitor_pattern_cnt  = 10\n",
    "listener_pattern_cnt  = 16\n",
    "listener_visitor_both_cnt = 4"
   ]
  },
  {
   "cell_type": "code",
   "execution_count": 18,
   "metadata": {},
   "outputs": [
    {
     "data": {
      "image/png": "[encoded data removed]",
      "text/plain": [
       "<Figure size 360x360 with 1 Axes>"
      ]
     },
     "metadata": {},
     "output_type": "display_data"
    }
   ],
   "source": [
    "pie_chart_datapoints = [listener_pattern_cnt, visitor_pattern_cnt, listener_visitor_both_cnt]\n",
    "pie_chart_labels = ['listener(' + str(listener_pattern_cnt) + ')', 'visitor(' + str(visitor_pattern_cnt) + ')', 'Both(' + str(listener_visitor_both_cnt) + ')']\n",
    "show_pie_chart(pie_chart_datapoints, pie_chart_labels, [0, 0, 0.2], 'Usage of Antlr Patterns')"
   ]
  },
  {
   "cell_type": "code",
   "execution_count": 19,
   "metadata": {},
   "outputs": [],
   "source": [
    "listener_method_cnt = sum(repo_df['enter_method_cnt']) + sum(repo_df['exit_method_cnt'])\n",
    "visitor_method_cnt = sum(repo_df['visit_method_cnt'])"
   ]
  },
  {
   "cell_type": "code",
   "execution_count": 20,
   "metadata": {},
   "outputs": [],
   "source": [
    "listener_method_cnt = 199\n",
    "visitor_method_cnt = 879"
   ]
  },
  {
   "cell_type": "code",
   "execution_count": 21,
   "metadata": {},
   "outputs": [
    {
     "data": {
      "image/png": "[encoded data removed]",
      "text/plain": [
       "<Figure size 504x360 with 1 Axes>"
      ]
     },
     "metadata": {
      "needs_background": "light"
     },
     "output_type": "display_data"
    }
   ],
   "source": [
    "bar_chart_datapoints = [listener_method_cnt, visitor_method_cnt]\n",
    "bar_chart_labels = ['listener', 'visitor']\n",
    "show_bar_chart(bar_chart_datapoints, bar_chart_labels, 'Antlr Pattern Names', 'Method Counts', 'Method count distribution for Antlr patterns in all Repositories ')"
   ]
  },
  {
   "cell_type": "code",
   "execution_count": 22,
   "metadata": {},
   "outputs": [],
   "source": [
    "enter_exit_both_method_cnt = sum(repo_df['enter_exit_method_cnt'])\n",
    "enter_method_cnt = sum(repo_df['enter_method_cnt'])\n",
    "exit_method_cnt = sum(repo_df['exit_method_cnt'])"
   ]
  },
  {
   "cell_type": "code",
   "execution_count": 23,
   "metadata": {},
   "outputs": [],
   "source": [
    "enter_exit_both_method_cnt = 17\n",
    "enter_method_cnt = 58\n",
    "exit_method_cnt = 98"
   ]
  },
  {
   "cell_type": "code",
   "execution_count": 24,
   "metadata": {},
   "outputs": [
    {
     "data": {
      "image/png": "[encoded data removed]",
      "text/plain": [
       "<Figure size 504x360 with 1 Axes>"
      ]
     },
     "metadata": {
      "needs_background": "light"
     },
     "output_type": "display_data"
    }
   ],
   "source": [
    "enter_exit_data_points = [enter_method_cnt, exit_method_cnt]\n",
    "common_data_points = [enter_exit_both_method_cnt, enter_exit_both_method_cnt]\n",
    "bar_chart_labels = ['enter', 'exit']\n",
    "show_bar_chart_overlapped(enter_exit_data_points, common_data_points, bar_chart_labels, 'Listener Method Names', 'Method Counts', 'Method count distribution of Listener Pattern ')"
   ]
  }
 ],
 "metadata": {
  "kernelspec": {
   "display_name": "Python 3",
   "language": "python",
   "name": "python3"
  },
  "language_info": {
   "codemirror_mode": {
    "name": "ipython",
    "version": 3
   },
   "file_extension": ".py",
   "mimetype": "text/x-python",
   "name": "python",
   "nbconvert_exporter": "python",
   "pygments_lexer": "ipython3",
   "version": "3.7.4"
  }
 },
 "nbformat": 4,
 "nbformat_minor": 2
}
