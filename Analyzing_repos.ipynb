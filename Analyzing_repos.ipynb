{
 "cells": [
  {
   "cell_type": "markdown",
   "metadata": {},
   "source": [
    "# Mining Software Repositories Assignment - 2"
   ]
  },
  {
   "cell_type": "markdown",
   "metadata": {},
   "source": [
    "**1. Importing libraries and configurations**"
   ]
  },
  {
   "cell_type": "code",
   "execution_count": 1,
   "metadata": {},
   "outputs": [],
   "source": [
    "# _importing required libraries \n",
    "import pandas as pd\n",
    "import matplotlib.pyplot as plt\n",
    "%matplotlib inline"
   ]
  },
  {
   "cell_type": "code",
   "execution_count": 2,
   "metadata": {},
   "outputs": [],
   "source": [
    "# _configuring the matplotlib figure size \n",
    "plt.rcParams[\"figure.figsize\"] = (7,5)"
   ]
  },
  {
   "cell_type": "markdown",
   "metadata": {},
   "source": [
    "**2. Methods to visualize data**"
   ]
  },
  {
   "cell_type": "code",
   "execution_count": 3,
   "metadata": {},
   "outputs": [],
   "source": [
    "# _custom method to draw pie chart\n",
    "def show_pie_chart(data, labels, explode, title):\n",
    "    fig, axis = plt.subplots()\n",
    "    axis.pie(data, labels= labels, explode= explode, shadow= True, autopct= '%1.1f%%')\n",
    "    fig.set_size_inches(5, 5)\n",
    "    plt.title(title)\n",
    "    plt.show()"
   ]
  },
  {
   "cell_type": "code",
   "execution_count": 4,
   "metadata": {},
   "outputs": [],
   "source": [
    "# _custom method to draw bar chart\n",
    "def show_bar_chart(data, labels, x_label, y_label, title):\n",
    "    fig, axis = plt.subplots()\n",
    "    axis.bar(labels, data)\n",
    "    plt.xlabel(x_label)\n",
    "    plt.ylabel(y_label)\n",
    "    plt.title(title)\n",
    "    plt.show()"
   ]
  },
  {
   "cell_type": "code",
   "execution_count": 5,
   "metadata": {},
   "outputs": [],
   "source": [
    "# _custom method to visualize overlapping bar charts\n",
    "def show_bar_chart_overlapped(data_1, data_2, labels, x_label, y_label, title):\n",
    "    fig, axis = plt.subplots()\n",
    "    axis.bar(labels, data_1)\n",
    "    axis.bar(labels, data_2)\n",
    "    plt.xlabel(x_label)\n",
    "    plt.ylabel(y_label)\n",
    "    plt.title(title)\n",
    "    plt.legend(('Individual', 'both'))\n",
    "    plt.show()"
   ]
  },
  {
   "cell_type": "markdown",
   "metadata": {},
   "source": [
    "**3. Loading data from csv to pandas dataframe**"
   ]
  },
  {
   "cell_type": "code",
   "execution_count": 6,
   "metadata": {},
   "outputs": [
    {
     "data": {
      "text/html": [
       "<div>\n",
       "<style scoped>\n",
       "    .dataframe tbody tr th:only-of-type {\n",
       "        vertical-align: middle;\n",
       "    }\n",
       "\n",
       "    .dataframe tbody tr th {\n",
       "        vertical-align: top;\n",
       "    }\n",
       "\n",
       "    .dataframe thead th {\n",
       "        text-align: right;\n",
       "    }\n",
       "</style>\n",
       "<table border=\"1\" class=\"dataframe\">\n",
       "  <thead>\n",
       "    <tr style=\"text-align: right;\">\n",
       "      <th></th>\n",
       "      <th>repo_name</th>\n",
       "      <th>total_file_cnt</th>\n",
       "      <th>total_java_files</th>\n",
       "      <th>listener_pattern_cnt</th>\n",
       "      <th>visitor_pattern_cnt</th>\n",
       "      <th>enter_method_cnt</th>\n",
       "      <th>exit_method_cnt</th>\n",
       "      <th>enter_exit_method_cnt</th>\n",
       "      <th>visit_method_cnt</th>\n",
       "    </tr>\n",
       "    <tr>\n",
       "      <th>repo_id</th>\n",
       "      <th></th>\n",
       "      <th></th>\n",
       "      <th></th>\n",
       "      <th></th>\n",
       "      <th></th>\n",
       "      <th></th>\n",
       "      <th></th>\n",
       "      <th></th>\n",
       "      <th></th>\n",
       "    </tr>\n",
       "  </thead>\n",
       "  <tbody>\n",
       "    <tr>\n",
       "      <td>1</td>\n",
       "      <td>abnffuzzer</td>\n",
       "      <td>81</td>\n",
       "      <td>39</td>\n",
       "      <td>0</td>\n",
       "      <td>0</td>\n",
       "      <td>0</td>\n",
       "      <td>0</td>\n",
       "      <td>0</td>\n",
       "      <td>0</td>\n",
       "    </tr>\n",
       "    <tr>\n",
       "      <td>2</td>\n",
       "      <td>abstools</td>\n",
       "      <td>1197</td>\n",
       "      <td>500</td>\n",
       "      <td>1</td>\n",
       "      <td>0</td>\n",
       "      <td>1</td>\n",
       "      <td>167</td>\n",
       "      <td>0</td>\n",
       "      <td>0</td>\n",
       "    </tr>\n",
       "    <tr>\n",
       "      <td>3</td>\n",
       "      <td>AisLib</td>\n",
       "      <td>452</td>\n",
       "      <td>377</td>\n",
       "      <td>0</td>\n",
       "      <td>2</td>\n",
       "      <td>0</td>\n",
       "      <td>0</td>\n",
       "      <td>0</td>\n",
       "      <td>81</td>\n",
       "    </tr>\n",
       "    <tr>\n",
       "      <td>4</td>\n",
       "      <td>alchemy</td>\n",
       "      <td>205</td>\n",
       "      <td>140</td>\n",
       "      <td>0</td>\n",
       "      <td>0</td>\n",
       "      <td>3</td>\n",
       "      <td>4</td>\n",
       "      <td>0</td>\n",
       "      <td>0</td>\n",
       "    </tr>\n",
       "    <tr>\n",
       "      <td>5</td>\n",
       "      <td>Alchitry-Labs</td>\n",
       "      <td>694</td>\n",
       "      <td>201</td>\n",
       "      <td>17</td>\n",
       "      <td>0</td>\n",
       "      <td>30</td>\n",
       "      <td>195</td>\n",
       "      <td>0</td>\n",
       "      <td>0</td>\n",
       "    </tr>\n",
       "    <tr>\n",
       "      <td>...</td>\n",
       "      <td>...</td>\n",
       "      <td>...</td>\n",
       "      <td>...</td>\n",
       "      <td>...</td>\n",
       "      <td>...</td>\n",
       "      <td>...</td>\n",
       "      <td>...</td>\n",
       "      <td>...</td>\n",
       "      <td>...</td>\n",
       "    </tr>\n",
       "    <tr>\n",
       "      <td>397</td>\n",
       "      <td>teavm-flavour</td>\n",
       "      <td>585</td>\n",
       "      <td>468</td>\n",
       "      <td>0</td>\n",
       "      <td>1</td>\n",
       "      <td>0</td>\n",
       "      <td>0</td>\n",
       "      <td>0</td>\n",
       "      <td>40</td>\n",
       "    </tr>\n",
       "    <tr>\n",
       "      <td>398</td>\n",
       "      <td>the-definitive-antlr4-reference-code</td>\n",
       "      <td>62</td>\n",
       "      <td>0</td>\n",
       "      <td>0</td>\n",
       "      <td>0</td>\n",
       "      <td>0</td>\n",
       "      <td>0</td>\n",
       "      <td>0</td>\n",
       "      <td>0</td>\n",
       "    </tr>\n",
       "    <tr>\n",
       "      <td>399</td>\n",
       "      <td>theta</td>\n",
       "      <td>769</td>\n",
       "      <td>628</td>\n",
       "      <td>0</td>\n",
       "      <td>14</td>\n",
       "      <td>0</td>\n",
       "      <td>0</td>\n",
       "      <td>0</td>\n",
       "      <td>120</td>\n",
       "    </tr>\n",
       "    <tr>\n",
       "      <td>400</td>\n",
       "      <td>thrift-enhancer</td>\n",
       "      <td>143</td>\n",
       "      <td>109</td>\n",
       "      <td>1</td>\n",
       "      <td>0</td>\n",
       "      <td>0</td>\n",
       "      <td>6</td>\n",
       "      <td>0</td>\n",
       "      <td>0</td>\n",
       "    </tr>\n",
       "    <tr>\n",
       "      <td>401</td>\n",
       "      <td>tiny-language-antlr4</td>\n",
       "      <td>38</td>\n",
       "      <td>8</td>\n",
       "      <td>0</td>\n",
       "      <td>2</td>\n",
       "      <td>0</td>\n",
       "      <td>0</td>\n",
       "      <td>0</td>\n",
       "      <td>33</td>\n",
       "    </tr>\n",
       "  </tbody>\n",
       "</table>\n",
       "<p>401 rows × 9 columns</p>\n",
       "</div>"
      ],
      "text/plain": [
       "                                    repo_name  total_file_cnt  \\\n",
       "repo_id                                                         \n",
       "1                                  abnffuzzer              81   \n",
       "2                                    abstools            1197   \n",
       "3                                      AisLib             452   \n",
       "4                                     alchemy             205   \n",
       "5                               Alchitry-Labs             694   \n",
       "...                                       ...             ...   \n",
       "397                             teavm-flavour             585   \n",
       "398      the-definitive-antlr4-reference-code              62   \n",
       "399                                     theta             769   \n",
       "400                           thrift-enhancer             143   \n",
       "401                      tiny-language-antlr4              38   \n",
       "\n",
       "         total_java_files  listener_pattern_cnt  visitor_pattern_cnt  \\\n",
       "repo_id                                                                \n",
       "1                      39                     0                    0   \n",
       "2                     500                     1                    0   \n",
       "3                     377                     0                    2   \n",
       "4                     140                     0                    0   \n",
       "5                     201                    17                    0   \n",
       "...                   ...                   ...                  ...   \n",
       "397                   468                     0                    1   \n",
       "398                     0                     0                    0   \n",
       "399                   628                     0                   14   \n",
       "400                   109                     1                    0   \n",
       "401                     8                     0                    2   \n",
       "\n",
       "         enter_method_cnt  exit_method_cnt  enter_exit_method_cnt  \\\n",
       "repo_id                                                             \n",
       "1                       0                0                      0   \n",
       "2                       1              167                      0   \n",
       "3                       0                0                      0   \n",
       "4                       3                4                      0   \n",
       "5                      30              195                      0   \n",
       "...                   ...              ...                    ...   \n",
       "397                     0                0                      0   \n",
       "398                     0                0                      0   \n",
       "399                     0                0                      0   \n",
       "400                     0                6                      0   \n",
       "401                     0                0                      0   \n",
       "\n",
       "         visit_method_cnt  \n",
       "repo_id                    \n",
       "1                       0  \n",
       "2                       0  \n",
       "3                      81  \n",
       "4                       0  \n",
       "5                       0  \n",
       "...                   ...  \n",
       "397                    40  \n",
       "398                     0  \n",
       "399                   120  \n",
       "400                     0  \n",
       "401                    33  \n",
       "\n",
       "[401 rows x 9 columns]"
      ]
     },
     "execution_count": 6,
     "metadata": {},
     "output_type": "execute_result"
    }
   ],
   "source": [
    "# _read csv after antlr4 processing\n",
    "repo_df = pd.read_csv('mining_results/repository_mining_data.csv', index_col=0)\n",
    "repo_df"
   ]
  },
  {
   "cell_type": "markdown",
   "metadata": {},
   "source": [
    "**4. Preparing the dataset for Antlr4 Pattern Usage**"
   ]
  },
  {
   "cell_type": "code",
   "execution_count": 7,
   "metadata": {},
   "outputs": [],
   "source": [
    "# _initializing data points to zero\n",
    "visitor_pattern_cnt = 0\n",
    "listener_pattern_cnt = 0\n",
    "listener_visitor_both_cnt = 0\n",
    "no_listener_visitor_cnt = 0"
   ]
  },
  {
   "cell_type": "code",
   "execution_count": 8,
   "metadata": {},
   "outputs": [],
   "source": [
    "# _finding frequency counts of patterns by considering respective method counts in repositories\n",
    "for enter, exit, visit in zip(repo_df['enter_method_cnt'], repo_df['exit_method_cnt'], repo_df['visit_method_cnt']):\n",
    "    if visit > 0:\n",
    "        visitor_pattern_cnt += 1\n",
    "    if enter > 0 or exit > 0:\n",
    "        listener_pattern_cnt += 1\n",
    "        \n",
    "    if (enter > 0 or exit > 0) and visit > 0:\n",
    "        listener_visitor_both_cnt += 1\n",
    "    elif enter == 0 and exit == 0 and visit == 0:\n",
    "        no_listener_visitor_cnt += 1\n",
    "        \n",
    "visitor_pattern_cnt  -= listener_visitor_both_cnt\n",
    "listener_pattern_cnt  -= listener_visitor_both_cnt"
   ]
  },
  {
   "cell_type": "code",
   "execution_count": 9,
   "metadata": {
    "scrolled": true
   },
   "outputs": [
    {
     "data": {
      "image/png": "[encoded data removed]",
      "text/plain": [
       "<Figure size 360x360 with 1 Axes>"
      ]
     },
     "metadata": {},
     "output_type": "display_data"
    }
   ],
   "source": [
    "# _preparing data and labels needed for pie chart representation\n",
    "pie_chart_datapoints = [listener_pattern_cnt, visitor_pattern_cnt, listener_visitor_both_cnt, no_listener_visitor_cnt]\n",
    "pie_chart_labels = ['listener(' + str(listener_pattern_cnt) + ')', 'visitor(' + str(visitor_pattern_cnt) + ')', 'Both(' + str(listener_visitor_both_cnt) + ')', 'No listener/visitor(' + str(no_listener_visitor_cnt) + ')']\n",
    "show_pie_chart(pie_chart_datapoints, pie_chart_labels, [0, 0, 0.2, 0], 'Usage of Antlr Patterns')"
   ]
  },
  {
   "cell_type": "markdown",
   "metadata": {},
   "source": [
    "**4. Preparing the dataset for Method count distribution**"
   ]
  },
  {
   "cell_type": "code",
   "execution_count": 10,
   "metadata": {},
   "outputs": [],
   "source": [
    "# _calculating method frequency distribution of both listener and visitor\n",
    "listener_method_cnt = sum(repo_df['enter_method_cnt']) + sum(repo_df['exit_method_cnt'])\n",
    "visitor_method_cnt = sum(repo_df['visit_method_cnt'])"
   ]
  },
  {
   "cell_type": "code",
   "execution_count": 11,
   "metadata": {},
   "outputs": [
    {
     "data": {
      "image/png": "[encoded data removed]",
      "text/plain": [
       "<Figure size 504x360 with 1 Axes>"
      ]
     },
     "metadata": {
      "needs_background": "light"
     },
     "output_type": "display_data"
    }
   ],
   "source": [
    "# _preparing data and labels needed for bar chart representation\n",
    "bar_chart_datapoints = [listener_method_cnt, visitor_method_cnt]\n",
    "bar_chart_labels = ['listener', 'visitor']\n",
    "show_bar_chart(bar_chart_datapoints, bar_chart_labels, 'Antlr Pattern Names', 'Method Counts', 'Method count distribution for Antlr patterns in all Repositories ')"
   ]
  },
  {
   "cell_type": "markdown",
   "metadata": {},
   "source": [
    "**5. Preparing the dataset for Listener Methods count Distribution**"
   ]
  },
  {
   "cell_type": "code",
   "execution_count": 12,
   "metadata": {},
   "outputs": [],
   "source": [
    "# _taking enter, exit and both values directly from the csv\n",
    "enter_exit_both_method_cnt = sum(repo_df['enter_exit_method_cnt'])\n",
    "enter_method_cnt = sum(repo_df['enter_method_cnt'])\n",
    "exit_method_cnt = sum(repo_df['exit_method_cnt'])"
   ]
  },
  {
   "cell_type": "code",
   "execution_count": 13,
   "metadata": {},
   "outputs": [
    {
     "data": {
      "image/png": "[encoded data removed]",
      "text/plain": [
       "<Figure size 504x360 with 1 Axes>"
      ]
     },
     "metadata": {
      "needs_background": "light"
     },
     "output_type": "display_data"
    }
   ],
   "source": [
    "# _preparing data and labels needed for Overlapping bar chart representation\n",
    "enter_exit_data_points = [enter_method_cnt, exit_method_cnt]\n",
    "common_data_points = [enter_exit_both_method_cnt, enter_exit_both_method_cnt]\n",
    "bar_chart_labels = ['enter', 'exit']\n",
    "show_bar_chart_overlapped(enter_exit_data_points, common_data_points, bar_chart_labels, 'Listener Method Names', 'Method Counts', 'Method count distribution of Listener Pattern ')"
   ]
  }
 ],
 "metadata": {
  "kernelspec": {
   "display_name": "Python 3",
   "language": "python",
   "name": "python3"
  },
  "language_info": {
   "codemirror_mode": {
    "name": "ipython",
    "version": 3
   },
   "file_extension": ".py",
   "mimetype": "text/x-python",
   "name": "python",
   "nbconvert_exporter": "python",
   "pygments_lexer": "ipython3",
   "version": "3.7.4"
  }
 },
 "nbformat": 4,
 "nbformat_minor": 2
}
