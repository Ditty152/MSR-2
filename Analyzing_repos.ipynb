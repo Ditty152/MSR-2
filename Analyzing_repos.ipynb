{
 "cells": [
  {
   "cell_type": "markdown",
   "metadata": {},
   "source": [
    "# Mining Software Repositories Assignment - 2"
   ]
  },
  {
   "cell_type": "markdown",
   "metadata": {},
   "source": [
    "**1. Importing libraries and configurations**"
   ]
  },
  {
   "cell_type": "code",
   "execution_count": 1,
   "metadata": {},
   "outputs": [],
   "source": [
    "# _importing required libraries \n",
    "import pandas as pd\n",
    "import matplotlib.pyplot as plt\n",
    "%matplotlib inline"
   ]
  },
  {
   "cell_type": "code",
   "execution_count": 2,
   "metadata": {},
   "outputs": [],
   "source": [
    "# _configuring the matplotlib figure size \n",
    "plt.rcParams[\"figure.figsize\"] = (7,5)"
   ]
  },
  {
   "cell_type": "markdown",
   "metadata": {},
   "source": [
    "**2. Methods to visualize data**"
   ]
  },
  {
   "cell_type": "code",
   "execution_count": 3,
   "metadata": {},
   "outputs": [],
   "source": [
    "# _custom method to draw pie chart\n",
    "def show_pie_chart(data, labels, explode, title):\n",
    "    fig, axis = plt.subplots()\n",
    "    axis.pie(data, labels= labels, explode= explode, shadow= True, autopct= '%1.1f%%')\n",
    "    fig.set_size_inches(5, 5)\n",
    "    plt.title(title)\n",
    "    plt.show()"
   ]
  },
  {
   "cell_type": "code",
   "execution_count": 4,
   "metadata": {},
   "outputs": [],
   "source": [
    "# _custom method to draw bar chart\n",
    "def show_bar_chart(data, labels, x_label, y_label, title):\n",
    "    fig, axis = plt.subplots()\n",
    "    axis.bar(labels, data)\n",
    "    plt.xlabel(x_label)\n",
    "    plt.ylabel(y_label)\n",
    "    plt.title(title)\n",
    "    plt.show()"
   ]
  },
  {
   "cell_type": "code",
   "execution_count": 5,
   "metadata": {},
   "outputs": [],
   "source": [
    "# _custom method to visualize overlapping bar charts\n",
    "def show_bar_chart_overlapped(data_1, data_2, labels, x_label, y_label, title):\n",
    "    fig, axis = plt.subplots()\n",
    "    axis.bar(labels, data_1)\n",
    "    axis.bar(labels, data_2)\n",
    "    plt.xlabel(x_label)\n",
    "    plt.ylabel(y_label)\n",
    "    plt.title(title)\n",
    "    plt.legend(('Individual', 'both'))\n",
    "    plt.show()"
   ]
  },
  {
   "cell_type": "markdown",
   "metadata": {},
   "source": [
    "**3. Loading data from csv to pandas dataframe**"
   ]
  },
  {
   "cell_type": "code",
   "execution_count": 6,
   "metadata": {},
   "outputs": [
    {
     "data": {
      "text/html": [
       "<div>\n",
       "<style scoped>\n",
       "    .dataframe tbody tr th:only-of-type {\n",
       "        vertical-align: middle;\n",
       "    }\n",
       "\n",
       "    .dataframe tbody tr th {\n",
       "        vertical-align: top;\n",
       "    }\n",
       "\n",
       "    .dataframe thead th {\n",
       "        text-align: right;\n",
       "    }\n",
       "</style>\n",
       "<table border=\"1\" class=\"dataframe\">\n",
       "  <thead>\n",
       "    <tr style=\"text-align: right;\">\n",
       "      <th></th>\n",
       "      <th>total_file_cnt</th>\n",
       "      <th>total_java_files</th>\n",
       "      <th>listener_pattern_cnt</th>\n",
       "      <th>visitor_pattern_cnt</th>\n",
       "      <th>enter_method_cnt</th>\n",
       "      <th>exit_method_cnt</th>\n",
       "      <th>enter_exit_method_cnt</th>\n",
       "      <th>visit_method_cnt</th>\n",
       "    </tr>\n",
       "    <tr>\n",
       "      <th>repo_id</th>\n",
       "      <th></th>\n",
       "      <th></th>\n",
       "      <th></th>\n",
       "      <th></th>\n",
       "      <th></th>\n",
       "      <th></th>\n",
       "      <th></th>\n",
       "      <th></th>\n",
       "    </tr>\n",
       "  </thead>\n",
       "  <tbody>\n",
       "    <tr>\n",
       "      <td>1</td>\n",
       "      <td>81</td>\n",
       "      <td>39</td>\n",
       "      <td>0</td>\n",
       "      <td>0</td>\n",
       "      <td>0</td>\n",
       "      <td>0</td>\n",
       "      <td>0</td>\n",
       "      <td>0</td>\n",
       "    </tr>\n",
       "    <tr>\n",
       "      <td>2</td>\n",
       "      <td>1197</td>\n",
       "      <td>500</td>\n",
       "      <td>1</td>\n",
       "      <td>0</td>\n",
       "      <td>1</td>\n",
       "      <td>167</td>\n",
       "      <td>0</td>\n",
       "      <td>0</td>\n",
       "    </tr>\n",
       "    <tr>\n",
       "      <td>3</td>\n",
       "      <td>452</td>\n",
       "      <td>377</td>\n",
       "      <td>0</td>\n",
       "      <td>2</td>\n",
       "      <td>0</td>\n",
       "      <td>0</td>\n",
       "      <td>0</td>\n",
       "      <td>81</td>\n",
       "    </tr>\n",
       "    <tr>\n",
       "      <td>4</td>\n",
       "      <td>205</td>\n",
       "      <td>140</td>\n",
       "      <td>0</td>\n",
       "      <td>0</td>\n",
       "      <td>3</td>\n",
       "      <td>4</td>\n",
       "      <td>0</td>\n",
       "      <td>0</td>\n",
       "    </tr>\n",
       "    <tr>\n",
       "      <td>5</td>\n",
       "      <td>694</td>\n",
       "      <td>201</td>\n",
       "      <td>17</td>\n",
       "      <td>0</td>\n",
       "      <td>30</td>\n",
       "      <td>195</td>\n",
       "      <td>0</td>\n",
       "      <td>0</td>\n",
       "    </tr>\n",
       "    <tr>\n",
       "      <td>...</td>\n",
       "      <td>...</td>\n",
       "      <td>...</td>\n",
       "      <td>...</td>\n",
       "      <td>...</td>\n",
       "      <td>...</td>\n",
       "      <td>...</td>\n",
       "      <td>...</td>\n",
       "      <td>...</td>\n",
       "    </tr>\n",
       "    <tr>\n",
       "      <td>391</td>\n",
       "      <td>477</td>\n",
       "      <td>264</td>\n",
       "      <td>0</td>\n",
       "      <td>1</td>\n",
       "      <td>0</td>\n",
       "      <td>0</td>\n",
       "      <td>0</td>\n",
       "      <td>19</td>\n",
       "    </tr>\n",
       "    <tr>\n",
       "      <td>392</td>\n",
       "      <td>4373</td>\n",
       "      <td>2332</td>\n",
       "      <td>0</td>\n",
       "      <td>1</td>\n",
       "      <td>0</td>\n",
       "      <td>0</td>\n",
       "      <td>0</td>\n",
       "      <td>9</td>\n",
       "    </tr>\n",
       "    <tr>\n",
       "      <td>393</td>\n",
       "      <td>3785</td>\n",
       "      <td>1462</td>\n",
       "      <td>0</td>\n",
       "      <td>0</td>\n",
       "      <td>3</td>\n",
       "      <td>39</td>\n",
       "      <td>0</td>\n",
       "      <td>0</td>\n",
       "    </tr>\n",
       "    <tr>\n",
       "      <td>394</td>\n",
       "      <td>4246</td>\n",
       "      <td>1730</td>\n",
       "      <td>0</td>\n",
       "      <td>0</td>\n",
       "      <td>11</td>\n",
       "      <td>92</td>\n",
       "      <td>0</td>\n",
       "      <td>0</td>\n",
       "    </tr>\n",
       "    <tr>\n",
       "      <td>395</td>\n",
       "      <td>256</td>\n",
       "      <td>108</td>\n",
       "      <td>20</td>\n",
       "      <td>0</td>\n",
       "      <td>136</td>\n",
       "      <td>0</td>\n",
       "      <td>0</td>\n",
       "      <td>2</td>\n",
       "    </tr>\n",
       "  </tbody>\n",
       "</table>\n",
       "<p>395 rows × 8 columns</p>\n",
       "</div>"
      ],
      "text/plain": [
       "         total_file_cnt  total_java_files  listener_pattern_cnt  \\\n",
       "repo_id                                                           \n",
       "1                    81                39                     0   \n",
       "2                  1197               500                     1   \n",
       "3                   452               377                     0   \n",
       "4                   205               140                     0   \n",
       "5                   694               201                    17   \n",
       "...                 ...               ...                   ...   \n",
       "391                 477               264                     0   \n",
       "392                4373              2332                     0   \n",
       "393                3785              1462                     0   \n",
       "394                4246              1730                     0   \n",
       "395                 256               108                    20   \n",
       "\n",
       "         visitor_pattern_cnt  enter_method_cnt  exit_method_cnt  \\\n",
       "repo_id                                                           \n",
       "1                          0                 0                0   \n",
       "2                          0                 1              167   \n",
       "3                          2                 0                0   \n",
       "4                          0                 3                4   \n",
       "5                          0                30              195   \n",
       "...                      ...               ...              ...   \n",
       "391                        1                 0                0   \n",
       "392                        1                 0                0   \n",
       "393                        0                 3               39   \n",
       "394                        0                11               92   \n",
       "395                        0               136                0   \n",
       "\n",
       "         enter_exit_method_cnt  visit_method_cnt  \n",
       "repo_id                                           \n",
       "1                            0                 0  \n",
       "2                            0                 0  \n",
       "3                            0                81  \n",
       "4                            0                 0  \n",
       "5                            0                 0  \n",
       "...                        ...               ...  \n",
       "391                          0                19  \n",
       "392                          0                 9  \n",
       "393                          0                 0  \n",
       "394                          0                 0  \n",
       "395                          0                 2  \n",
       "\n",
       "[395 rows x 8 columns]"
      ]
     },
     "execution_count": 6,
     "metadata": {},
     "output_type": "execute_result"
    }
   ],
   "source": [
    "# _read csv after antlr4 processing\n",
    "repo_df = pd.read_csv('mining_results/repository_mining_data.csv', index_col=0)\n",
    "del repo_df['repo_name']\n",
    "repo_df"
   ]
  },
  {
   "cell_type": "markdown",
   "metadata": {},
   "source": [
    "**4. Preparing the dataset for Antlr4 Pattern Usage**"
   ]
  },
  {
   "cell_type": "code",
   "execution_count": 7,
   "metadata": {},
   "outputs": [],
   "source": [
    "# _initializing data points to zero\n",
    "visitor_pattern_cnt = 0\n",
    "listener_pattern_cnt = 0\n",
    "listener_visitor_both_cnt = 0\n",
    "no_listener_visitor_cnt = 0"
   ]
  },
  {
   "cell_type": "code",
   "execution_count": 8,
   "metadata": {},
   "outputs": [],
   "source": [
    "# _finding frequency counts of patterns by considering respective method counts in repositories\n",
    "for enter, exit, visit in zip(repo_df['enter_method_cnt'], repo_df['exit_method_cnt'], repo_df['visit_method_cnt']):\n",
    "    if visit > 0:\n",
    "        visitor_pattern_cnt += 1\n",
    "    if enter > 0 or exit > 0:\n",
    "        listener_pattern_cnt += 1\n",
    "        \n",
    "    if (enter > 0 or exit > 0) and visit > 0:\n",
    "        listener_visitor_both_cnt += 1\n",
    "    elif enter == 0 and exit == 0 and visit == 0:\n",
    "        no_listener_visitor_cnt += 1\n",
    "        \n",
    "visitor_pattern_cnt  -= listener_visitor_both_cnt\n",
    "listener_pattern_cnt  -= listener_visitor_both_cnt"
   ]
  },
  {
   "cell_type": "code",
   "execution_count": 9,
   "metadata": {
    "scrolled": true
   },
   "outputs": [
    {
     "data": {
      "image/png": "[encoded data removed]",
      "text/plain": [
       "<Figure size 360x360 with 1 Axes>"
      ]
     },
     "metadata": {},
     "output_type": "display_data"
    }
   ],
   "source": [
    "# _preparing data and labels needed for pie chart representation\n",
    "pie_chart_datapoints = [listener_pattern_cnt, visitor_pattern_cnt, listener_visitor_both_cnt, no_listener_visitor_cnt]\n",
    "pie_chart_labels = ['listener(' + str(listener_pattern_cnt) + ')', 'visitor(' + str(visitor_pattern_cnt) + ')', 'Both(' + str(listener_visitor_both_cnt) + ')', 'No listener/visitor(' + str(no_listener_visitor_cnt) + ')']\n",
    "show_pie_chart(pie_chart_datapoints, pie_chart_labels, [0, 0, 0.2, 0], 'Usage of Antlr Patterns')"
   ]
  },
  {
   "cell_type": "markdown",
   "metadata": {},
   "source": [
    "**4. Preparing the dataset for Method count distribution**"
   ]
  },
  {
   "cell_type": "code",
   "execution_count": 10,
   "metadata": {},
   "outputs": [],
   "source": [
    "# _calculating method frequency distribution of both listener and visitor\n",
    "listener_method_cnt = sum(repo_df['enter_method_cnt']) + sum(repo_df['exit_method_cnt'])\n",
    "visitor_method_cnt = sum(repo_df['visit_method_cnt'])"
   ]
  },
  {
   "cell_type": "code",
   "execution_count": 11,
   "metadata": {},
   "outputs": [
    {
     "data": {
      "image/png": "[encoded data removed]",
      "text/plain": [
       "<Figure size 504x360 with 1 Axes>"
      ]
     },
     "metadata": {
      "needs_background": "light"
     },
     "output_type": "display_data"
    }
   ],
   "source": [
    "# _preparing data and labels needed for bar chart representation\n",
    "bar_chart_datapoints = [listener_method_cnt, visitor_method_cnt]\n",
    "bar_chart_labels = ['listener', 'visitor']\n",
    "show_bar_chart(bar_chart_datapoints, bar_chart_labels, 'Antlr Pattern Names', 'Method Counts', 'Method count distribution for Antlr patterns in all Repositories ')"
   ]
  },
  {
   "cell_type": "markdown",
   "metadata": {},
   "source": [
    "**5. Preparing the dataset for Listener Methods count Distribution**"
   ]
  },
  {
   "cell_type": "code",
   "execution_count": 12,
   "metadata": {},
   "outputs": [],
   "source": [
    "# _taking enter, exit and both values directly from the csv\n",
    "enter_exit_both_method_cnt = sum(repo_df['enter_exit_method_cnt'])\n",
    "enter_method_cnt = sum(repo_df['enter_method_cnt'])\n",
    "exit_method_cnt = sum(repo_df['exit_method_cnt'])"
   ]
  },
  {
   "cell_type": "code",
   "execution_count": 13,
   "metadata": {},
   "outputs": [
    {
     "data": {
      "image/png": "[encoded data removed]",
      "text/plain": [
       "<Figure size 504x360 with 1 Axes>"
      ]
     },
     "metadata": {
      "needs_background": "light"
     },
     "output_type": "display_data"
    }
   ],
   "source": [
    "# _preparing data and labels needed for Overlapping bar chart representation\n",
    "enter_exit_data_points = [enter_method_cnt, exit_method_cnt]\n",
    "common_data_points = [enter_exit_both_method_cnt, enter_exit_both_method_cnt]\n",
    "bar_chart_labels = ['enter', 'exit']\n",
    "show_bar_chart_overlapped(enter_exit_data_points, common_data_points, bar_chart_labels, 'Listener Method Names', 'Method Counts', 'Method count distribution of Listener Pattern ')"
   ]
  }
 ],
 "metadata": {
  "kernelspec": {
   "display_name": "Python 3",
   "language": "python",
   "name": "python3"
  },
  "language_info": {
   "codemirror_mode": {
    "name": "ipython",
    "version": 3
   },
   "file_extension": ".py",
   "mimetype": "text/x-python",
   "name": "python",
   "nbconvert_exporter": "python",
   "pygments_lexer": "ipython3",
   "version": "3.7.4"
  }
 },
 "nbformat": 4,
 "nbformat_minor": 2
}
